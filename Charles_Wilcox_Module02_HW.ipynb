{
  "cells": [
    {
      "cell_type": "markdown",
      "metadata": {
        "id": "5HBT_V7mkoey"
      },
      "source": [
        "# Homework Week 2\n",
        "\n",
        "1. Explain features and targets.\n",
        "2. What is the difference between the supervised learning and unsupervised learning?\n",
        "3. What is the difference between the classification and regression? Define a specific classification problem and a regression problem that you may be interested in.\n",
        "4. Describe the roadmap of building a machine learning system.\n",
        "5. In the iris data set, explain what are $x^{(3)}$, $x_3$, and $x^{(3)}_3$?\n",
        "6. Let **w** and **x** be vectors, \n",
        "\n",
        "$$\n",
        "\\textbf{w} = \\begin{bmatrix}\n",
        "1 \\\\\n",
        "3 \\\\\n",
        "-1 \\\\\n",
        "\\end{bmatrix}\n",
        "$$\n",
        "\n",
        "$$\n",
        "\\textbf{x} = \\begin{bmatrix}\n",
        "2 \\\\\n",
        "3 \\\\\n",
        "4 \\\\\n",
        "\\end{bmatrix}\n",
        "$$\n",
        "\n",
        "What is $\\textbf{w}^{T}\\textbf{x}$? \n",
        "\n",
        "7. Using Numpy create and print **w** and **x** in #7; calculate the $\\textbf{w}^{T}\\textbf{x}$ to check your previous answer.\n"
      ]
    },
    {
      "cell_type": "markdown",
      "metadata": {
        "id": "z3dSh1LyG1L7"
      },
      "source": [
        "**1. Explain features and targets.**\n",
        "\n",
        "Features are the explanitory (predictor) variables.\n",
        "\n",
        "Targets are the outcome variable.\n",
        "\n",
        "We look for relationships between the features and the target in an attept to predict the target."
      ]
    },
    {
      "cell_type": "markdown",
      "metadata": {
        "id": "53t1neS03oPA"
      },
      "source": [
        "**2. What is the difference between the supervised learning and unsupervised learning?**\n",
        "\n",
        "In supervised learning, there is labeled data that is used to train a model in an attempt to predict a specific outcome or target variable on future data. Classification and regression are types of supervised learning. \n",
        "\n",
        "In unsupervised learning, there is no labeled explanatory variables or targets. Rather than looking for relationships between features and targets, unsupervised learning looks for patterns in unstructure data without a known outcome. Clustering and dimensionality reduction are types of unsupervised learning.\n"
      ]
    },
    {
      "cell_type": "markdown",
      "metadata": {
        "id": "ZxU1nzZx6FqO"
      },
      "source": [
        "**3. What is the difference between the classification and regression? Define a specific classification problem and a regression problem that you may be interested in.**\n",
        "\n",
        "In classification, the goal is to predict a discrete, unordered class label. The target variable can be binary or multiclass. Dog breed detection is an example of classification. Dog breed can be identified based on a series of characteristics.\n",
        "\n",
        "In regression, the goal is to predict a continuous response variable. A line is fit that minimized the distance between the data points. Intercept and slope are used to predict the outcome variable. Insurance companies use regression to predicting home values for risk analysis."
      ]
    },
    {
      "cell_type": "markdown",
      "metadata": {
        "id": "LdIExbRpZ3hD"
      },
      "source": [
        "**4. Describe the roadmap of building a machine learning system.**\n",
        "\n",
        "Part 1 is **Preprocessing**. The data is prepared for processing. This includes feature extraction and scaling, feature selection, dimensionality reduction, and sampling. Then, the data is partitioned into training and validation sets.\n",
        "\n",
        "Part 2 is **Learning**. The model is selected and the learning algorithm is applied. This phase includes model selection, cross-validation, performance metrics, and hyperparameter optimization.\n",
        "\n",
        "Part 3 is **Evaluation**. Here, the final model is evaluated for how well it performs with the validation/test data. \n",
        "\n",
        "Part 4 is **Prediction**. Finally, new data is processed using the developed model. New predictions are made."
      ]
    },
    {
      "cell_type": "markdown",
      "metadata": {
        "id": "RycgjmNVcSWg"
      },
      "source": [
        "**5. In the iris data set, explain what are $x^{(3)}$, $x_3$, and $x^{(3)}_3$?**\n",
        "\n",
        "$x^{(3)}$ is the third training sample of the iris data set, the third row of the matrix.\n",
        "\n",
        "$x_3$ is the third feature of the iris data set, the third column of the matrix.\n",
        "\n",
        "$x^{(3)}_3$ is the third dimension of the third sample of the iris data set, a single element in the matrix."
      ]
    },
    {
      "cell_type": "markdown",
      "metadata": {
        "id": "pet6GX85-T__"
      },
      "source": [
        "**6. Let w and x be vectors**, \n",
        "\n",
        "$$\n",
        "\\textbf{w} = \\begin{bmatrix}\n",
        "1 \\\\\n",
        "3 \\\\\n",
        "-1 \\\\\n",
        "\\end{bmatrix}\n",
        "$$\n",
        "\n",
        "$$\n",
        "\\textbf{x} = \\begin{bmatrix}\n",
        "2 \\\\\n",
        "3 \\\\\n",
        "4 \\\\\n",
        "\\end{bmatrix}\n",
        "$$\n",
        "\n",
        "**What is** $\\textbf{w}^{T}\\textbf{x}$?\n",
        "\n",
        "\n",
        "$\\textbf{w}^{T}\\textbf{x}$ = transpose w and multiply by x.\n",
        "\n",
        "$$\n",
        "\\begin{bmatrix}\n",
        "1 & 3 & -1\n",
        "\\end{bmatrix}\n",
        "\\times\n",
        "\\begin{bmatrix}\n",
        "2\\\\\n",
        "3\\\\\n",
        "4\\\\\n",
        "\\end{bmatrix}\n",
        "=\n",
        "\\begin{bmatrix}\n",
        "(1*2)+(3*3)+(-1*4)\\\\\n",
        "\\end{bmatrix}\n",
        "=\n",
        "7\n",
        "$$"
      ]
    },
    {
      "cell_type": "markdown",
      "metadata": {
        "id": "fZTx7_UfLVlh"
      },
      "source": [
        "**7. Using Numpy create and print w and x in #7; calculate the $\\textbf{w}^{T}\\textbf{x}$ to check your previous answer.**"
      ]
    },
    {
      "cell_type": "code",
      "execution_count": null,
      "metadata": {
        "colab": {
          "base_uri": "https://localhost:8080/"
        },
        "id": "ONLbYJM5By_H",
        "outputId": "c45b10c6-d200-4104-f570-ebe999a1ff4e"
      },
      "outputs": [
        {
          "name": "stdout",
          "output_type": "stream",
          "text": [
            "[[7]]\n"
          ]
        }
      ],
      "source": [
        "import numpy as np\n",
        "w = np.array([[1,], [3], [-1]])\n",
        "x = np.array([[2], [3], [4]])\n",
        "print((w.T) @ x)"
      ]
    },
    {
      "cell_type": "markdown",
      "metadata": {
        "id": "8wxmGxRvCwj-"
      },
      "source": []
    }
  ],
  "metadata": {
    "colab": {
      "collapsed_sections": [],
      "provenance": []
    },
    "kernelspec": {
      "display_name": "Python 3",
      "language": "python",
      "name": "python3"
    },
    "language_info": {
      "codemirror_mode": {
        "name": "ipython",
        "version": 3
      },
      "file_extension": ".py",
      "mimetype": "text/x-python",
      "name": "python",
      "nbconvert_exporter": "python",
      "pygments_lexer": "ipython3",
      "version": "3.7.3"
    },
    "toc": {
      "base_numbering": 1,
      "nav_menu": {},
      "number_sections": true,
      "sideBar": true,
      "skip_h1_title": false,
      "title_cell": "Table of Contents",
      "title_sidebar": "Contents",
      "toc_cell": false,
      "toc_position": {},
      "toc_section_display": true,
      "toc_window_display": false
    }
  },
  "nbformat": 4,
  "nbformat_minor": 0
}
