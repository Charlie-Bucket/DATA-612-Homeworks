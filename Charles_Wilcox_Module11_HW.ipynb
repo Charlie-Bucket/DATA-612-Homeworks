{
 "cells": [
  {
   "cell_type": "markdown",
   "metadata": {
    "id": "ue2UOqaBuuEL"
   },
   "source": [
    "## Homework Week 11\n",
    "\n",
    "1. Why is it generally preferable to use a Logistic Regression classifier rather than a classical Perceptron (i.e., a single layer of threshold logic units trained using the Perceptron training algorithm)? How can you tweak a Perceptron to make it equivalent to a Logistic Regression classifier?\n",
    "\n",
    "2. Can you list all the hyperparameters you can tweak in a basic MLP? If the MLP overfits the training data, how could you tweak these hyperparameters to try to solve the problem?\n",
    "\n",
    "3. Train a deep MLP on the MNIST dataset (you can load it using keras.datasets.mnist.load_data(). See what accuracy you can get. Try searching for the optimal learning rate. The MNIST dataset is a set of 70,000 small images of digits handwritten (0-9) by high school students and employees of the US Census Bureau. Each image is labeled with the digit it represents. There are 70,000 images, and each image has 784 features. This is because each image is 28 × 28 pixels, and each feature simply represents one pixel’s intensity, from 0 (white) to 255 (black).\n",
    "\n",
    "To check the out of sample accuracy: \n",
    "```\n",
    "model.evaluate(X_test, y_test)\n",
    "```"
   ]
  },
  {
   "cell_type": "markdown",
   "metadata": {
    "id": "CxlKnCeKvu4g"
   },
   "source": [
    "**Problem 1: Why is it generally preferable to use a Logistic Regression classifier rather than a classical Perceptron (i.e., a single layer of threshold logic units trained using the Perceptron training algorithm)? How can you tweak a Perceptron to make it equivalent to a Logistic Regression classifier?**\n",
    "\n",
    "A classical Perceptron and Logistic Regression are both classifiers that can be used to predict binary variables and set decision boundries. Logistic Regression uses probability to classify the target in a range between 0 and 1. A classical Perceptron (single-layer perceptron) uses examples and weights to classify values either -1 or 1. Perceptrons take inputs of feature vectors and multiplies them with the weight vector to compute the net input and makes classifications. In the case of a misclassification, the weight is updated and the net input recalculated. This repetition (sometimes 10s of thousands iterations) makes perceptrons time-consuming, when a decision boundry can be easily found with a logistic regression model."
   ]
  },
  {
   "cell_type": "markdown",
   "metadata": {
    "id": "jot3CLag2dcq"
   },
   "source": [
    "**Problem 2.1: Can you list all the hyperparameters you can tweak in a basic MLP?**\n",
    "\n",
    "The Scikit-Learn MLP Classifier has the following hyperparameters: hidden_layer_sizes, activation, solver, alpha, batch_size, learning_rate, learning_rate_init, power_t, max_iter, shuffle, random_state, tol, verbose, warm_start, momentum, nesterovs_momentum, early_stopping, validation_fraction, beta_1, beta_2, epsilon, n_iter_no_change, max_fun."
   ]
  },
  {
   "cell_type": "markdown",
   "metadata": {
    "id": "pXk5GZRp7HmT"
   },
   "source": [
    "**Problem 2.2: If the MLP overfits the training data, how could you tweak these hyperparameters to try to solve the problem?**\n",
    "\n",
    "Early_stopping can be set to True and training will be terminated when the validation score is not improving.\n",
    "\n",
    "Or, a tolerance (tol) can be set to terminate the training when the loss or score is not improving by at least tol for n_iter_no_change (the maximum number of epochs to not see tol improvement).\n",
    "\n",
    "Or, learning_rate can be set to adaptive which keeps the learning rate constant to ‘learning_rate_init’ as long as training loss keeps decreasing. Each time two consecutive epochs fail to decrease training loss by at least tol, or fail to increase validation score by at least tol if ‘early_stopping’ is on, the current learning rate is divided by 5."
   ]
  },
  {
   "cell_type": "markdown",
   "metadata": {
    "id": "FffnWFZ496zb"
   },
   "source": [
    "**Problem 3: Train a deep MLP on the MNIST dataset (you can load it using keras.datasets.mnist.load_data(). See what accuracy you can get. Try searching for the optimal learning rate. The MNIST dataset is a set of 70,000 small images of digits handwritten (0-9) by high school students and employees of the US Census Bureau. Each image is labeled with the digit it represents. There are 70,000 images, and each image has 784 features. This is because each image is 28 × 28 pixels, and each feature simply represents one pixel’s intensity, from 0 (white) to 255 (black).**"
   ]
  },
  {
   "cell_type": "code",
   "execution_count": null,
   "metadata": {
    "id": "RKYsGRGIuuEO"
   },
   "outputs": [],
   "source": [
    "import pandas as pd\n",
    "import numpy as np\n",
    "import tensorflow as tf\n",
    "from tensorflow import keras\n",
    "\n",
    "(X_train, y_train), (X_test, y_test) = keras.datasets.mnist.load_data()\n",
    "print(\"X_train Shape:\", X_train.shape)\n",
    "print(\"y_train Values:\", np.unique(y_train))"
   ]
  },
  {
   "cell_type": "markdown",
   "metadata": {
    "id": "dztJgQegByJl"
   },
   "source": [
    "###Model 1"
   ]
  },
  {
   "cell_type": "code",
   "execution_count": null,
   "metadata": {
    "colab": {
     "base_uri": "https://localhost:8080/"
    },
    "id": "DowrPSFB_b5z",
    "outputId": "55339a87-e223-46ae-c29f-5f6f258da638"
   },
   "outputs": [
    {
     "data": {
      "text/plain": [
       "<tf.Tensor: shape=(60000, 10), dtype=float32, numpy=\n",
       "array([[0.16092604, 0.03965664, 0.10473278, ..., 0.15350746, 0.11682192,\n",
       "        0.03146256],\n",
       "       [0.157025  , 0.03209527, 0.08726551, ..., 0.19488981, 0.10402052,\n",
       "        0.02806727],\n",
       "       [0.15760276, 0.03533459, 0.09258626, ..., 0.15044665, 0.12086402,\n",
       "        0.03088022],\n",
       "       ...,\n",
       "       [0.18974268, 0.03885382, 0.08273212, ..., 0.16255164, 0.11853555,\n",
       "        0.02578707],\n",
       "       [0.16280916, 0.03785788, 0.09159419, ..., 0.1993969 , 0.12086872,\n",
       "        0.02389017],\n",
       "       [0.16832487, 0.03797522, 0.09618536, ..., 0.13419726, 0.11291031,\n",
       "        0.02952256]], dtype=float32)>"
      ]
     },
     "execution_count": 2,
     "metadata": {},
     "output_type": "execute_result"
    }
   ],
   "source": [
    "#model1 creation\n",
    "\n",
    "model1 = keras.models.Sequential() #keras model\n",
    "\n",
    "model1.add(keras.layers.Flatten(input_shape=[28, 28])) #input layer\n",
    "\n",
    "#hidden layers\n",
    "model1.add(keras.layers.Dense(100, activation='sigmoid'))\n",
    "model1.add(keras.layers.Dense(50, activation='sigmoid'))\n",
    "\n",
    "model1.add(keras.layers.Dense(len(np.unique(y_train)), activation='softmax')) #output layer\n",
    "\n",
    "model1(X_train)"
   ]
  },
  {
   "cell_type": "code",
   "execution_count": null,
   "metadata": {
    "id": "iW68X5vBB4Iv"
   },
   "outputs": [],
   "source": [
    "#compile the model\n",
    "\n",
    "model1.compile(loss=\"sparse_categorical_crossentropy\",\n",
    "              optimizer=\"sgd\",\n",
    "              metrics=[\"accuracy\"])"
   ]
  },
  {
   "cell_type": "code",
   "execution_count": null,
   "metadata": {
    "colab": {
     "base_uri": "https://localhost:8080/"
    },
    "id": "5RZTcucbEigj",
    "outputId": "4f337c97-c48e-4829-e6e2-f6ecacd24d2f"
   },
   "outputs": [
    {
     "name": "stdout",
     "output_type": "stream",
     "text": [
      "Epoch 1/50\n",
      "1875/1875 [==============================] - 6s 3ms/step - loss: 1.4227 - accuracy: 0.7179 - val_loss: 0.8231 - val_accuracy: 0.8631\n",
      "Epoch 2/50\n",
      "1875/1875 [==============================] - 5s 3ms/step - loss: 0.6282 - accuracy: 0.8758 - val_loss: 0.4846 - val_accuracy: 0.8966\n",
      "Epoch 3/50\n",
      "1875/1875 [==============================] - 5s 3ms/step - loss: 0.4419 - accuracy: 0.8963 - val_loss: 0.3809 - val_accuracy: 0.9080\n",
      "Epoch 4/50\n",
      "1875/1875 [==============================] - 5s 3ms/step - loss: 0.3681 - accuracy: 0.9082 - val_loss: 0.3395 - val_accuracy: 0.9124\n",
      "Epoch 5/50\n",
      "1875/1875 [==============================] - 5s 3ms/step - loss: 0.3329 - accuracy: 0.9141 - val_loss: 0.3186 - val_accuracy: 0.9156\n",
      "Epoch 6/50\n",
      "1875/1875 [==============================] - 5s 3ms/step - loss: 0.3117 - accuracy: 0.9176 - val_loss: 0.2954 - val_accuracy: 0.9214\n",
      "Epoch 7/50\n",
      "1875/1875 [==============================] - 5s 3ms/step - loss: 0.2914 - accuracy: 0.9217 - val_loss: 0.2936 - val_accuracy: 0.9225\n",
      "Epoch 8/50\n",
      "1875/1875 [==============================] - 5s 3ms/step - loss: 0.2783 - accuracy: 0.9243 - val_loss: 0.2743 - val_accuracy: 0.9250\n",
      "Epoch 9/50\n",
      "1875/1875 [==============================] - 5s 3ms/step - loss: 0.2630 - accuracy: 0.9278 - val_loss: 0.2633 - val_accuracy: 0.9266\n",
      "Epoch 10/50\n",
      "1875/1875 [==============================] - 5s 3ms/step - loss: 0.2537 - accuracy: 0.9292 - val_loss: 0.2470 - val_accuracy: 0.9319\n",
      "Epoch 11/50\n",
      "1875/1875 [==============================] - 5s 3ms/step - loss: 0.2452 - accuracy: 0.9323 - val_loss: 0.2438 - val_accuracy: 0.9302\n",
      "Epoch 12/50\n",
      "1875/1875 [==============================] - 5s 3ms/step - loss: 0.2429 - accuracy: 0.9312 - val_loss: 0.2401 - val_accuracy: 0.9318\n",
      "Epoch 13/50\n",
      "1875/1875 [==============================] - 5s 3ms/step - loss: 0.2382 - accuracy: 0.9329 - val_loss: 0.2365 - val_accuracy: 0.9339\n",
      "Epoch 14/50\n",
      "1875/1875 [==============================] - 5s 3ms/step - loss: 0.2309 - accuracy: 0.9356 - val_loss: 0.2223 - val_accuracy: 0.9385\n",
      "Epoch 15/50\n",
      "1875/1875 [==============================] - 5s 3ms/step - loss: 0.2254 - accuracy: 0.9352 - val_loss: 0.2196 - val_accuracy: 0.9378\n",
      "Epoch 16/50\n",
      "1875/1875 [==============================] - 5s 3ms/step - loss: 0.2187 - accuracy: 0.9369 - val_loss: 0.2173 - val_accuracy: 0.9384\n",
      "Epoch 17/50\n",
      "1875/1875 [==============================] - 5s 3ms/step - loss: 0.2085 - accuracy: 0.9393 - val_loss: 0.2092 - val_accuracy: 0.9410\n",
      "Epoch 18/50\n",
      "1875/1875 [==============================] - 5s 3ms/step - loss: 0.2115 - accuracy: 0.9390 - val_loss: 0.2166 - val_accuracy: 0.9383\n"
     ]
    }
   ],
   "source": [
    "#set early stopping and fit the model\n",
    "\n",
    "callback1 = tf.keras.callbacks.EarlyStopping(monitor='loss', patience=1) #terminates when number of epochs with no improvement = 1\n",
    "\n",
    "history1 = model1.fit(X_train, y_train, \n",
    "                    epochs=50,\n",
    "                    validation_data=(X_test, y_test),\n",
    "                    callbacks=[callback1]\n",
    "                    )"
   ]
  },
  {
   "cell_type": "code",
   "execution_count": null,
   "metadata": {
    "colab": {
     "base_uri": "https://localhost:8080/"
    },
    "id": "oh61PNm6HMmi",
    "outputId": "dd9d3b5e-ec8a-4766-af38-b3f3d4e4bd20"
   },
   "outputs": [
    {
     "name": "stdout",
     "output_type": "stream",
     "text": [
      "313/313 [==============================] - 1s 2ms/step - loss: 0.2166 - accuracy: 0.9383\n"
     ]
    },
    {
     "data": {
      "text/plain": [
       "[0.21664279699325562, 0.9383000135421753]"
      ]
     },
     "execution_count": 6,
     "metadata": {},
     "output_type": "execute_result"
    }
   ],
   "source": [
    "model1.evaluate(X_test, y_test)"
   ]
  },
  {
   "cell_type": "code",
   "execution_count": null,
   "metadata": {
    "colab": {
     "base_uri": "https://localhost:8080/",
     "height": 612
    },
    "id": "pAJAovdnLL_Z",
    "outputId": "c28ac7d5-9adf-4c1a-b81b-320f5785652d"
   },
   "outputs": [
    {
     "name": "stdout",
     "output_type": "stream",
     "text": [
      "        loss  accuracy  val_loss  val_accuracy\n",
      "0   1.422688  0.717850  0.823118        0.8631\n",
      "1   0.628217  0.875767  0.484564        0.8966\n",
      "2   0.441926  0.896333  0.380888        0.9080\n",
      "3   0.368140  0.908167  0.339493        0.9124\n",
      "4   0.332937  0.914083  0.318604        0.9156\n",
      "5   0.311727  0.917583  0.295439        0.9214\n",
      "6   0.291382  0.921717  0.293560        0.9225\n",
      "7   0.278281  0.924283  0.274291        0.9250\n",
      "8   0.263019  0.927800  0.263322        0.9266\n",
      "9   0.253725  0.929233  0.246961        0.9319\n",
      "10  0.245174  0.932300  0.243795        0.9302\n",
      "11  0.242945  0.931150  0.240088        0.9318\n",
      "12  0.238239  0.932933  0.236451        0.9339\n",
      "13  0.230857  0.935617  0.222337        0.9385\n",
      "14  0.225408  0.935250  0.219618        0.9378\n",
      "15  0.218744  0.936867  0.217263        0.9384\n",
      "16  0.208468  0.939283  0.209158        0.9410\n",
      "17  0.211508  0.939017  0.216643        0.9383\n"
     ]
    },
    {
     "data": {
      "text/plain": [
       "<matplotlib.axes._subplots.AxesSubplot at 0x7f2726bc6490>"
      ]
     },
     "execution_count": 8,
     "metadata": {},
     "output_type": "execute_result"
    },
    {
     "data": {
      "image/png": "[encoded data removed]",
      "text/plain": [
       "<Figure size 432x288 with 1 Axes>"
      ]
     },
     "metadata": {
      "needs_background": "light"
     },
     "output_type": "display_data"
    }
   ],
   "source": [
    "#create dataframe containing the metrics measured at the end of each epoch on the training and validation sets\n",
    "df = pd.DataFrame(history1.history)\n",
    "print(df)\n",
    "\n",
    "# plot the scores\n",
    "df.plot()"
   ]
  },
  {
   "cell_type": "markdown",
   "metadata": {
    "id": "p8UdcgXiB3x0"
   },
   "source": [
    "###Model 2"
   ]
  },
  {
   "cell_type": "code",
   "execution_count": null,
   "metadata": {
    "colab": {
     "base_uri": "https://localhost:8080/"
    },
    "id": "osg7rwrI8dCK",
    "outputId": "093c42b8-6adb-4527-c16a-cbccdd73b1b2"
   },
   "outputs": [
    {
     "data": {
      "text/plain": [
       "<tf.Tensor: shape=(60000, 10), dtype=float32, numpy=\n",
       "array([[0.08026844, 0.08804706, 0.32702228, ..., 0.0620256 , 0.06883678,\n",
       "        0.03947371],\n",
       "       [0.0743455 , 0.07951791, 0.3290584 , ..., 0.06492935, 0.07290133,\n",
       "        0.0395142 ],\n",
       "       [0.06648637, 0.07761257, 0.34128654, ..., 0.05593676, 0.05901832,\n",
       "        0.038095  ],\n",
       "       ...,\n",
       "       [0.08869168, 0.08088581, 0.31007603, ..., 0.06447735, 0.0722542 ,\n",
       "        0.04176708],\n",
       "       [0.06403504, 0.07395824, 0.3267385 , ..., 0.07739171, 0.06778841,\n",
       "        0.03920728],\n",
       "       [0.07927562, 0.08644482, 0.32599786, ..., 0.05212037, 0.06160862,\n",
       "        0.04088774]], dtype=float32)>"
      ]
     },
     "execution_count": 9,
     "metadata": {},
     "output_type": "execute_result"
    }
   ],
   "source": [
    "#model2 creation\n",
    "\n",
    "model2 = keras.models.Sequential() #keras model\n",
    "\n",
    "model2.add(keras.layers.Flatten(input_shape=[28, 28])) #input layer\n",
    "\n",
    "#hidden layers - default activation function is ReLU\n",
    "model2.add(keras.layers.Dense(50, activation='sigmoid'))\n",
    "model2.add(keras.layers.Dense(10, activation='sigmoid'))\n",
    "\n",
    "model2.add(keras.layers.Dense(len(np.unique(y_train)), activation='softmax')) #output layer\n",
    "\n",
    "model2(X_train)"
   ]
  },
  {
   "cell_type": "code",
   "execution_count": null,
   "metadata": {
    "id": "uZ7A4JTFBo2F"
   },
   "outputs": [],
   "source": [
    "#compile model2\n",
    "\n",
    "model2.compile(loss=\"sparse_categorical_crossentropy\",\n",
    "              optimizer=\"sgd\",\n",
    "              metrics=[\"accuracy\"])"
   ]
  },
  {
   "cell_type": "code",
   "execution_count": null,
   "metadata": {
    "colab": {
     "base_uri": "https://localhost:8080/"
    },
    "id": "iyXsirXB8cXM",
    "outputId": "f50212aa-fd57-4bd3-d610-74389a538cc9"
   },
   "outputs": [
    {
     "name": "stdout",
     "output_type": "stream",
     "text": [
      "Epoch 1/50\n",
      "1875/1875 [==============================] - 4s 2ms/step - loss: 1.9051 - accuracy: 0.4629 - val_loss: 1.5424 - val_accuracy: 0.6311\n",
      "Epoch 2/50\n",
      "1875/1875 [==============================] - 4s 2ms/step - loss: 1.2950 - accuracy: 0.7175 - val_loss: 1.0830 - val_accuracy: 0.7971\n",
      "Epoch 3/50\n",
      "1875/1875 [==============================] - 4s 2ms/step - loss: 0.9450 - accuracy: 0.8213 - val_loss: 0.8118 - val_accuracy: 0.8551\n",
      "Epoch 4/50\n",
      "1875/1875 [==============================] - 4s 2ms/step - loss: 0.7396 - accuracy: 0.8586 - val_loss: 0.6831 - val_accuracy: 0.8673\n",
      "Epoch 5/50\n",
      "1875/1875 [==============================] - 4s 2ms/step - loss: 0.6190 - accuracy: 0.8733 - val_loss: 0.5544 - val_accuracy: 0.8885\n",
      "Epoch 6/50\n",
      "1875/1875 [==============================] - 4s 2ms/step - loss: 0.5441 - accuracy: 0.8812 - val_loss: 0.5343 - val_accuracy: 0.8767\n",
      "Epoch 7/50\n",
      "1875/1875 [==============================] - 4s 2ms/step - loss: 0.5096 - accuracy: 0.8824 - val_loss: 0.4845 - val_accuracy: 0.8898\n",
      "Epoch 8/50\n",
      "1875/1875 [==============================] - 4s 2ms/step - loss: 0.4648 - accuracy: 0.8896 - val_loss: 0.4684 - val_accuracy: 0.8860\n",
      "Epoch 9/50\n",
      "1875/1875 [==============================] - 4s 2ms/step - loss: 0.4418 - accuracy: 0.8942 - val_loss: 0.3989 - val_accuracy: 0.9009\n",
      "Epoch 10/50\n",
      "1875/1875 [==============================] - 4s 2ms/step - loss: 0.4126 - accuracy: 0.8958 - val_loss: 0.3961 - val_accuracy: 0.9001\n",
      "Epoch 11/50\n",
      "1875/1875 [==============================] - 4s 2ms/step - loss: 0.3962 - accuracy: 0.9008 - val_loss: 0.3876 - val_accuracy: 0.9014\n",
      "Epoch 12/50\n",
      "1875/1875 [==============================] - 5s 3ms/step - loss: 0.3838 - accuracy: 0.9014 - val_loss: 0.3898 - val_accuracy: 0.8990\n",
      "Epoch 13/50\n",
      "1875/1875 [==============================] - 4s 2ms/step - loss: 0.3779 - accuracy: 0.9012 - val_loss: 0.3702 - val_accuracy: 0.9003\n",
      "Epoch 14/50\n",
      "1875/1875 [==============================] - 4s 2ms/step - loss: 0.3636 - accuracy: 0.9036 - val_loss: 0.3665 - val_accuracy: 0.9023\n",
      "Epoch 15/50\n",
      "1875/1875 [==============================] - 4s 2ms/step - loss: 0.3500 - accuracy: 0.9083 - val_loss: 0.3456 - val_accuracy: 0.9073\n",
      "Epoch 16/50\n",
      "1875/1875 [==============================] - 4s 2ms/step - loss: 0.3370 - accuracy: 0.9116 - val_loss: 0.3545 - val_accuracy: 0.9021\n",
      "Epoch 17/50\n",
      "1875/1875 [==============================] - 4s 2ms/step - loss: 0.3421 - accuracy: 0.9072 - val_loss: 0.3267 - val_accuracy: 0.9111\n"
     ]
    }
   ],
   "source": [
    "#set early stopping and fit the model\n",
    "\n",
    "callback2 = tf.keras.callbacks.EarlyStopping(monitor='loss', patience=1) #terminate if number of epochs with no improvement = 3\n",
    "\n",
    "history2 = model2.fit(X_train, y_train, \n",
    "                    epochs=50,\n",
    "                    validation_data=(X_test, y_test),\n",
    "                    callbacks=[callback2]\n",
    "                    )"
   ]
  },
  {
   "cell_type": "code",
   "execution_count": null,
   "metadata": {
    "colab": {
     "base_uri": "https://localhost:8080/",
     "height": 595
    },
    "id": "GCIbRO8eBR16",
    "outputId": "d33ed5ed-3569-4b9a-e7cc-f29d90c7077c"
   },
   "outputs": [
    {
     "name": "stdout",
     "output_type": "stream",
     "text": [
      "        loss  accuracy  val_loss  val_accuracy\n",
      "0   1.905074  0.462933  1.542416        0.6311\n",
      "1   1.294981  0.717483  1.082992        0.7971\n",
      "2   0.944957  0.821250  0.811824        0.8551\n",
      "3   0.739608  0.858633  0.683057        0.8673\n",
      "4   0.619007  0.873267  0.554381        0.8885\n",
      "5   0.544121  0.881200  0.534323        0.8767\n",
      "6   0.509604  0.882400  0.484501        0.8898\n",
      "7   0.464828  0.889567  0.468434        0.8860\n",
      "8   0.441789  0.894183  0.398880        0.9009\n",
      "9   0.412552  0.895800  0.396116        0.9001\n",
      "10  0.396185  0.900783  0.387595        0.9014\n",
      "11  0.383787  0.901417  0.389805        0.8990\n",
      "12  0.377901  0.901167  0.370242        0.9003\n",
      "13  0.363595  0.903600  0.366529        0.9023\n",
      "14  0.350012  0.908333  0.345568        0.9073\n",
      "15  0.336990  0.911617  0.354460        0.9021\n",
      "16  0.342064  0.907233  0.326740        0.9111\n"
     ]
    },
    {
     "data": {
      "text/plain": [
       "<matplotlib.axes._subplots.AxesSubplot at 0x7f2728b24670>"
      ]
     },
     "execution_count": 14,
     "metadata": {},
     "output_type": "execute_result"
    },
    {
     "data": {
      "image/png": "[encoded data removed]",
      "text/plain": [
       "<Figure size 432x288 with 1 Axes>"
      ]
     },
     "metadata": {
      "needs_background": "light"
     },
     "output_type": "display_data"
    }
   ],
   "source": [
    "#create dataframe containing the metrics measured at the end of each epoch on the training and validation sets\n",
    "df = pd.DataFrame(history2.history)\n",
    "print(df)\n",
    "\n",
    "# plot the scores\n",
    "df.plot()"
   ]
  },
  {
   "cell_type": "markdown",
   "metadata": {
    "id": "TuSN_etzNCYV"
   },
   "source": [
    "**See what accuracy you can get.**\n",
    "\n",
    "I originally set the layers at 300 and 100, the epochs at 50, and the EarlyStopping at monitor='loss' and patience of 3. The model ran for 37 epochs, took a long time, but resulted in a 96% accuracy. Because it took so long to run, I changed the hidden layer density to 100 and 50, and then to 50 and 10. I got an accuracy of 94% and 91%."
   ]
  },
  {
   "cell_type": "code",
   "execution_count": null,
   "metadata": {
    "colab": {
     "base_uri": "https://localhost:8080/"
    },
    "id": "iAjwAevrXnG-",
    "outputId": "4a2356db-8b82-4f99-b889-c0c765b16463"
   },
   "outputs": [
    {
     "name": "stdout",
     "output_type": "stream",
     "text": [
      "{'optimizer': <keras.optimizers.optimizer_v2.gradient_descent.SGD object at 0x7f271d995100>}\n",
      "Training...\n",
      "Epoch 1/100\n"
     ]
    },
    {
     "name": "stderr",
     "output_type": "stream",
     "text": [
      "<ipython-input-36-fc98d2d42f7a>:22: DeprecationWarning: KerasClassifier is deprecated, use Sci-Keras (https://github.com/adriangb/scikeras) instead. See https://www.adriangb.com/scikeras/stable/migration.html for help migrating.\n",
      "  cls = KerasClassifier(build_fn=make_model)\n"
     ]
    },
    {
     "name": "stdout",
     "output_type": "stream",
     "text": [
      "1875/1875 [==============================] - 7s 3ms/step - loss: 2.3031 - accuracy: 0.0722 - val_loss: 2.3007 - val_accuracy: 0.0897\n",
      "Epoch 2/100\n",
      "1875/1875 [==============================] - 5s 3ms/step - loss: 2.2985 - accuracy: 0.1182 - val_loss: 2.2961 - val_accuracy: 0.1310\n",
      "Epoch 3/100\n",
      "1875/1875 [==============================] - 6s 3ms/step - loss: 2.2940 - accuracy: 0.1370 - val_loss: 2.2916 - val_accuracy: 0.1276\n",
      "Epoch 4/100\n",
      "1875/1875 [==============================] - 6s 3ms/step - loss: 2.2895 - accuracy: 0.1322 - val_loss: 2.2871 - val_accuracy: 0.1354\n",
      "Epoch 5/100\n",
      "1875/1875 [==============================] - 6s 3ms/step - loss: 2.2850 - accuracy: 0.1452 - val_loss: 2.2824 - val_accuracy: 0.1490\n",
      "Epoch 6/100\n",
      "1875/1875 [==============================] - 5s 3ms/step - loss: 2.2801 - accuracy: 0.1578 - val_loss: 2.2773 - val_accuracy: 0.1642\n",
      "Epoch 7/100\n",
      "1875/1875 [==============================] - 6s 3ms/step - loss: 2.2747 - accuracy: 0.1749 - val_loss: 2.2715 - val_accuracy: 0.1796\n",
      "Epoch 8/100\n",
      "1875/1875 [==============================] - 6s 3ms/step - loss: 2.2684 - accuracy: 0.1825 - val_loss: 2.2647 - val_accuracy: 0.1875\n",
      "Epoch 9/100\n",
      "1875/1875 [==============================] - 5s 3ms/step - loss: 2.2610 - accuracy: 0.1906 - val_loss: 2.2565 - val_accuracy: 0.1911\n",
      "Epoch 10/100\n",
      "1875/1875 [==============================] - 6s 3ms/step - loss: 2.2522 - accuracy: 0.1923 - val_loss: 2.2468 - val_accuracy: 0.1938\n",
      "Epoch 11/100\n",
      "1875/1875 [==============================] - 5s 3ms/step - loss: 2.2417 - accuracy: 0.1948 - val_loss: 2.2352 - val_accuracy: 0.1947\n",
      "Epoch 12/100\n",
      "1875/1875 [==============================] - 6s 3ms/step - loss: 2.2291 - accuracy: 0.2074 - val_loss: 2.2217 - val_accuracy: 0.2197\n",
      "Epoch 13/100\n",
      "1875/1875 [==============================] - 6s 3ms/step - loss: 2.2147 - accuracy: 0.2150 - val_loss: 2.2062 - val_accuracy: 0.2139\n",
      "Epoch 14/100\n",
      "1875/1875 [==============================] - 7s 4ms/step - loss: 2.1986 - accuracy: 0.2144 - val_loss: 2.1892 - val_accuracy: 0.2185\n",
      "Epoch 15/100\n",
      "1875/1875 [==============================] - 6s 3ms/step - loss: 2.1811 - accuracy: 0.2261 - val_loss: 2.1708 - val_accuracy: 0.2285\n",
      "Epoch 16/100\n",
      "1875/1875 [==============================] - 6s 3ms/step - loss: 2.1623 - accuracy: 0.2414 - val_loss: 2.1510 - val_accuracy: 0.2476\n",
      "Epoch 17/100\n",
      "1875/1875 [==============================] - 6s 3ms/step - loss: 2.1420 - accuracy: 0.2633 - val_loss: 2.1298 - val_accuracy: 0.2741\n",
      "Epoch 18/100\n",
      "1875/1875 [==============================] - 5s 3ms/step - loss: 2.1203 - accuracy: 0.2825 - val_loss: 2.1072 - val_accuracy: 0.2899\n",
      "Epoch 19/100\n",
      "1875/1875 [==============================] - 5s 3ms/step - loss: 2.0971 - accuracy: 0.2942 - val_loss: 2.0831 - val_accuracy: 0.2989\n",
      "Epoch 20/100\n",
      "1875/1875 [==============================] - 6s 3ms/step - loss: 2.0725 - accuracy: 0.3003 - val_loss: 2.0577 - val_accuracy: 0.3021\n",
      "Epoch 21/100\n",
      "1875/1875 [==============================] - 5s 3ms/step - loss: 2.0468 - accuracy: 0.3035 - val_loss: 2.0315 - val_accuracy: 0.3048\n",
      "Epoch 22/100\n",
      "1875/1875 [==============================] - 5s 3ms/step - loss: 2.0202 - accuracy: 0.3056 - val_loss: 2.0040 - val_accuracy: 0.3043\n",
      "Epoch 23/100\n",
      "1875/1875 [==============================] - 6s 3ms/step - loss: 1.9926 - accuracy: 0.3061 - val_loss: 1.9763 - val_accuracy: 0.3049\n",
      "Epoch 24/100\n",
      "1875/1875 [==============================] - 5s 3ms/step - loss: 1.9647 - accuracy: 0.3067 - val_loss: 1.9484 - val_accuracy: 0.3055\n",
      "Epoch 25/100\n",
      "1875/1875 [==============================] - 6s 3ms/step - loss: 1.9365 - accuracy: 0.3077 - val_loss: 1.9205 - val_accuracy: 0.3062\n",
      "Epoch 26/100\n",
      "1875/1875 [==============================] - 5s 3ms/step - loss: 1.9091 - accuracy: 0.3087 - val_loss: 1.8939 - val_accuracy: 0.3076\n",
      "Epoch 27/100\n",
      "1875/1875 [==============================] - 5s 3ms/step - loss: 1.8829 - accuracy: 0.3093 - val_loss: 1.8683 - val_accuracy: 0.3079\n",
      "Epoch 28/100\n",
      "1875/1875 [==============================] - 6s 3ms/step - loss: 1.8580 - accuracy: 0.3105 - val_loss: 1.8442 - val_accuracy: 0.3097\n",
      "Epoch 29/100\n",
      "1875/1875 [==============================] - 6s 3ms/step - loss: 1.8348 - accuracy: 0.3122 - val_loss: 1.8219 - val_accuracy: 0.3127\n",
      "Epoch 30/100\n",
      "1875/1875 [==============================] - 6s 3ms/step - loss: 1.8134 - accuracy: 0.3131 - val_loss: 1.8011 - val_accuracy: 0.3141\n",
      "Epoch 31/100\n",
      "1875/1875 [==============================] - 6s 3ms/step - loss: 1.7932 - accuracy: 0.3153 - val_loss: 1.7819 - val_accuracy: 0.3166\n",
      "Epoch 32/100\n",
      "1875/1875 [==============================] - 6s 3ms/step - loss: 1.7745 - accuracy: 0.3169 - val_loss: 1.7644 - val_accuracy: 0.3179\n",
      "Epoch 33/100\n",
      "1875/1875 [==============================] - 6s 3ms/step - loss: 1.7569 - accuracy: 0.3183 - val_loss: 1.7469 - val_accuracy: 0.3192\n",
      "Epoch 34/100\n",
      "1875/1875 [==============================] - 6s 3ms/step - loss: 1.7407 - accuracy: 0.3204 - val_loss: 1.7316 - val_accuracy: 0.3215\n",
      "Epoch 35/100\n",
      "1875/1875 [==============================] - 6s 3ms/step - loss: 1.7255 - accuracy: 0.3224 - val_loss: 1.7172 - val_accuracy: 0.3224\n",
      "Epoch 36/100\n",
      "1875/1875 [==============================] - 6s 3ms/step - loss: 1.7109 - accuracy: 0.3251 - val_loss: 1.7033 - val_accuracy: 0.3258\n",
      "Epoch 37/100\n",
      "1875/1875 [==============================] - 6s 3ms/step - loss: 1.6974 - accuracy: 0.3272 - val_loss: 1.6906 - val_accuracy: 0.3265\n",
      "Epoch 38/100\n",
      "1875/1875 [==============================] - 6s 3ms/step - loss: 1.6850 - accuracy: 0.3286 - val_loss: 1.6781 - val_accuracy: 0.3292\n",
      "Epoch 39/100\n",
      "1875/1875 [==============================] - 6s 3ms/step - loss: 1.6727 - accuracy: 0.3295 - val_loss: 1.6668 - val_accuracy: 0.3314\n",
      "Epoch 40/100\n",
      "1875/1875 [==============================] - 6s 3ms/step - loss: 1.6612 - accuracy: 0.3322 - val_loss: 1.6557 - val_accuracy: 0.3318\n",
      "Epoch 41/100\n",
      "1875/1875 [==============================] - 6s 3ms/step - loss: 1.6501 - accuracy: 0.3349 - val_loss: 1.6454 - val_accuracy: 0.3355\n",
      "Epoch 42/100\n",
      "1875/1875 [==============================] - 6s 3ms/step - loss: 1.6400 - accuracy: 0.3371 - val_loss: 1.6356 - val_accuracy: 0.3353\n",
      "Epoch 43/100\n",
      "1875/1875 [==============================] - 6s 3ms/step - loss: 1.6300 - accuracy: 0.3385 - val_loss: 1.6272 - val_accuracy: 0.3355\n",
      "Epoch 44/100\n",
      "1875/1875 [==============================] - 6s 3ms/step - loss: 1.6206 - accuracy: 0.3399 - val_loss: 1.6183 - val_accuracy: 0.3398\n",
      "Epoch 45/100\n",
      "1875/1875 [==============================] - 6s 3ms/step - loss: 1.6117 - accuracy: 0.3413 - val_loss: 1.6086 - val_accuracy: 0.3410\n",
      "Epoch 46/100\n",
      "1875/1875 [==============================] - 6s 3ms/step - loss: 1.6033 - accuracy: 0.3424 - val_loss: 1.6010 - val_accuracy: 0.3420\n",
      "Epoch 47/100\n",
      "1875/1875 [==============================] - 6s 3ms/step - loss: 1.5950 - accuracy: 0.3434 - val_loss: 1.5931 - val_accuracy: 0.3441\n",
      "Epoch 48/100\n",
      "1875/1875 [==============================] - 6s 3ms/step - loss: 1.5871 - accuracy: 0.3455 - val_loss: 1.5854 - val_accuracy: 0.3473\n",
      "Epoch 49/100\n",
      "1875/1875 [==============================] - 7s 4ms/step - loss: 1.5803 - accuracy: 0.3479 - val_loss: 1.5791 - val_accuracy: 0.3463\n",
      "Epoch 50/100\n",
      "1875/1875 [==============================] - 6s 3ms/step - loss: 1.5734 - accuracy: 0.3486 - val_loss: 1.5725 - val_accuracy: 0.3488\n",
      "Epoch 51/100\n",
      "1875/1875 [==============================] - 6s 3ms/step - loss: 1.5664 - accuracy: 0.3527 - val_loss: 1.5661 - val_accuracy: 0.3507\n",
      "Epoch 52/100\n",
      "1875/1875 [==============================] - 6s 3ms/step - loss: 1.5596 - accuracy: 0.3540 - val_loss: 1.5596 - val_accuracy: 0.3522\n",
      "Epoch 53/100\n",
      "1875/1875 [==============================] - 6s 3ms/step - loss: 1.5536 - accuracy: 0.3548 - val_loss: 1.5542 - val_accuracy: 0.3529\n",
      "Epoch 54/100\n",
      "1875/1875 [==============================] - 6s 3ms/step - loss: 1.5478 - accuracy: 0.3583 - val_loss: 1.5488 - val_accuracy: 0.3528\n",
      "Epoch 55/100\n",
      "1875/1875 [==============================] - 6s 3ms/step - loss: 1.5420 - accuracy: 0.3575 - val_loss: 1.5441 - val_accuracy: 0.3547\n",
      "Epoch 56/100\n",
      "1875/1875 [==============================] - 6s 3ms/step - loss: 1.5363 - accuracy: 0.3612 - val_loss: 1.5388 - val_accuracy: 0.3558\n",
      "Epoch 57/100\n",
      "1875/1875 [==============================] - 6s 3ms/step - loss: 1.5309 - accuracy: 0.3611 - val_loss: 1.5339 - val_accuracy: 0.3596\n",
      "Epoch 58/100\n",
      "1875/1875 [==============================] - 6s 3ms/step - loss: 1.5258 - accuracy: 0.3618 - val_loss: 1.5289 - val_accuracy: 0.3594\n",
      "Epoch 59/100\n",
      "1875/1875 [==============================] - 6s 3ms/step - loss: 1.5213 - accuracy: 0.3640 - val_loss: 1.5250 - val_accuracy: 0.3616\n",
      "Epoch 60/100\n",
      "1875/1875 [==============================] - 6s 3ms/step - loss: 1.5164 - accuracy: 0.3650 - val_loss: 1.5203 - val_accuracy: 0.3662\n",
      "Epoch 61/100\n",
      "1875/1875 [==============================] - 6s 3ms/step - loss: 1.5117 - accuracy: 0.3682 - val_loss: 1.5170 - val_accuracy: 0.3647\n",
      "Epoch 62/100\n",
      "1875/1875 [==============================] - 6s 3ms/step - loss: 1.5076 - accuracy: 0.3706 - val_loss: 1.5128 - val_accuracy: 0.3665\n",
      "Epoch 63/100\n",
      "1875/1875 [==============================] - 6s 3ms/step - loss: 1.5034 - accuracy: 0.3733 - val_loss: 1.5090 - val_accuracy: 0.3687\n",
      "Epoch 64/100\n",
      "1875/1875 [==============================] - 6s 3ms/step - loss: 1.4993 - accuracy: 0.3745 - val_loss: 1.5057 - val_accuracy: 0.3717\n",
      "Epoch 65/100\n",
      "1875/1875 [==============================] - 6s 3ms/step - loss: 1.4954 - accuracy: 0.3756 - val_loss: 1.5019 - val_accuracy: 0.3741\n",
      "Epoch 66/100\n",
      "1875/1875 [==============================] - 6s 3ms/step - loss: 1.4912 - accuracy: 0.3790 - val_loss: 1.4985 - val_accuracy: 0.3775\n",
      "Epoch 67/100\n",
      "1875/1875 [==============================] - 6s 3ms/step - loss: 1.4871 - accuracy: 0.3809 - val_loss: 1.4948 - val_accuracy: 0.3778\n",
      "Epoch 68/100\n",
      "1875/1875 [==============================] - 6s 3ms/step - loss: 1.4832 - accuracy: 0.3839 - val_loss: 1.4907 - val_accuracy: 0.3791\n",
      "Epoch 69/100\n",
      "1875/1875 [==============================] - 6s 3ms/step - loss: 1.4796 - accuracy: 0.3869 - val_loss: 1.4883 - val_accuracy: 0.3827\n",
      "Epoch 70/100\n",
      "1875/1875 [==============================] - 6s 3ms/step - loss: 1.4761 - accuracy: 0.3883 - val_loss: 1.4853 - val_accuracy: 0.3865\n",
      "Epoch 71/100\n",
      "1875/1875 [==============================] - 6s 3ms/step - loss: 1.4720 - accuracy: 0.3923 - val_loss: 1.4825 - val_accuracy: 0.3874\n",
      "Epoch 72/100\n",
      "1875/1875 [==============================] - 6s 3ms/step - loss: 1.4685 - accuracy: 0.3939 - val_loss: 1.4790 - val_accuracy: 0.3905\n",
      "Epoch 73/100\n",
      "1875/1875 [==============================] - 6s 3ms/step - loss: 1.4646 - accuracy: 0.3992 - val_loss: 1.4763 - val_accuracy: 0.3908\n",
      "Epoch 74/100\n",
      "1875/1875 [==============================] - 6s 3ms/step - loss: 1.4608 - accuracy: 0.4006 - val_loss: 1.4738 - val_accuracy: 0.3909\n",
      "Epoch 75/100\n",
      "1875/1875 [==============================] - 6s 3ms/step - loss: 1.4579 - accuracy: 0.4034 - val_loss: 1.4710 - val_accuracy: 0.4008\n",
      "Epoch 76/100\n",
      "1875/1875 [==============================] - 6s 3ms/step - loss: 1.4546 - accuracy: 0.4077 - val_loss: 1.4675 - val_accuracy: 0.4020\n",
      "Epoch 77/100\n",
      "1875/1875 [==============================] - 6s 3ms/step - loss: 1.4509 - accuracy: 0.4101 - val_loss: 1.4649 - val_accuracy: 0.4068\n",
      "Epoch 78/100\n",
      "1875/1875 [==============================] - 6s 3ms/step - loss: 1.4475 - accuracy: 0.4144 - val_loss: 1.4618 - val_accuracy: 0.4076\n",
      "Epoch 79/100\n",
      "1875/1875 [==============================] - 6s 3ms/step - loss: 1.4442 - accuracy: 0.4181 - val_loss: 1.4581 - val_accuracy: 0.4116\n",
      "Epoch 80/100\n",
      "1875/1875 [==============================] - 6s 3ms/step - loss: 1.4411 - accuracy: 0.4214 - val_loss: 1.4557 - val_accuracy: 0.4176\n",
      "Epoch 81/100\n",
      "1875/1875 [==============================] - 6s 3ms/step - loss: 1.4378 - accuracy: 0.4241 - val_loss: 1.4522 - val_accuracy: 0.4187\n",
      "Epoch 82/100\n",
      "1875/1875 [==============================] - 6s 3ms/step - loss: 1.4341 - accuracy: 0.4263 - val_loss: 1.4498 - val_accuracy: 0.4238\n",
      "Epoch 83/100\n",
      "1875/1875 [==============================] - 6s 3ms/step - loss: 1.4306 - accuracy: 0.4324 - val_loss: 1.4469 - val_accuracy: 0.4274\n",
      "Epoch 84/100\n",
      "1875/1875 [==============================] - 7s 4ms/step - loss: 1.4266 - accuracy: 0.4374 - val_loss: 1.4433 - val_accuracy: 0.4285\n",
      "Epoch 85/100\n",
      "1875/1875 [==============================] - 6s 3ms/step - loss: 1.4234 - accuracy: 0.4384 - val_loss: 1.4406 - val_accuracy: 0.4292\n",
      "Epoch 86/100\n",
      "1875/1875 [==============================] - 6s 3ms/step - loss: 1.4201 - accuracy: 0.4423 - val_loss: 1.4380 - val_accuracy: 0.4351\n",
      "Epoch 87/100\n",
      "1875/1875 [==============================] - 6s 3ms/step - loss: 1.4164 - accuracy: 0.4459 - val_loss: 1.4338 - val_accuracy: 0.4402\n",
      "Epoch 88/100\n",
      "1875/1875 [==============================] - 6s 3ms/step - loss: 1.4132 - accuracy: 0.4498 - val_loss: 1.4311 - val_accuracy: 0.4440\n",
      "Epoch 89/100\n",
      "1875/1875 [==============================] - 6s 3ms/step - loss: 1.4092 - accuracy: 0.4509 - val_loss: 1.4274 - val_accuracy: 0.4454\n",
      "Epoch 90/100\n",
      "1875/1875 [==============================] - 6s 3ms/step - loss: 1.4053 - accuracy: 0.4550 - val_loss: 1.4249 - val_accuracy: 0.4494\n",
      "Epoch 91/100\n",
      "1875/1875 [==============================] - 6s 3ms/step - loss: 1.4013 - accuracy: 0.4612 - val_loss: 1.4221 - val_accuracy: 0.4532\n",
      "Epoch 92/100\n",
      "1875/1875 [==============================] - 6s 3ms/step - loss: 1.3979 - accuracy: 0.4619 - val_loss: 1.4173 - val_accuracy: 0.4533\n",
      "Epoch 93/100\n",
      "1875/1875 [==============================] - 6s 3ms/step - loss: 1.3938 - accuracy: 0.4656 - val_loss: 1.4134 - val_accuracy: 0.4590\n",
      "Epoch 94/100\n",
      "1875/1875 [==============================] - 6s 3ms/step - loss: 1.3903 - accuracy: 0.4665 - val_loss: 1.4094 - val_accuracy: 0.4600\n",
      "Epoch 95/100\n",
      "1875/1875 [==============================] - 6s 3ms/step - loss: 1.3865 - accuracy: 0.4715 - val_loss: 1.4059 - val_accuracy: 0.4603\n",
      "Epoch 96/100\n",
      "1875/1875 [==============================] - 6s 3ms/step - loss: 1.3824 - accuracy: 0.4717 - val_loss: 1.4027 - val_accuracy: 0.4653\n",
      "Epoch 97/100\n",
      "1875/1875 [==============================] - 6s 3ms/step - loss: 1.3786 - accuracy: 0.4744 - val_loss: 1.3987 - val_accuracy: 0.4646\n",
      "Epoch 98/100\n",
      "1875/1875 [==============================] - 6s 3ms/step - loss: 1.3745 - accuracy: 0.4777 - val_loss: 1.3957 - val_accuracy: 0.4682\n",
      "Epoch 99/100\n",
      "1875/1875 [==============================] - 6s 3ms/step - loss: 1.3703 - accuracy: 0.4806 - val_loss: 1.3933 - val_accuracy: 0.4695\n",
      "Epoch 100/100\n",
      "1875/1875 [==============================] - 5s 3ms/step - loss: 1.3666 - accuracy: 0.4841 - val_loss: 1.3892 - val_accuracy: 0.4710\n",
      "Val Loss: 1.3891555070877075\n",
      "Val Acc:  0.47099998593330383\n",
      "{'optimizer': <keras.optimizers.optimizer_v2.gradient_descent.SGD object at 0x7f271d995430>}\n",
      "Training...\n",
      "Epoch 1/100\n",
      "1875/1875 [==============================] - 6s 3ms/step - loss: 2.2839 - accuracy: 0.1309 - val_loss: 2.2599 - val_accuracy: 0.1771\n",
      "Epoch 2/100\n",
      "1875/1875 [==============================] - 5s 3ms/step - loss: 2.1893 - accuracy: 0.2993 - val_loss: 2.0687 - val_accuracy: 0.3646\n",
      "Epoch 3/100\n",
      "1875/1875 [==============================] - 6s 3ms/step - loss: 1.8815 - accuracy: 0.3941 - val_loss: 1.6990 - val_accuracy: 0.4100\n",
      "Epoch 4/100\n",
      "1875/1875 [==============================] - 6s 3ms/step - loss: 1.5818 - accuracy: 0.4157 - val_loss: 1.4779 - val_accuracy: 0.4302\n",
      "Epoch 5/100\n",
      "1875/1875 [==============================] - 6s 3ms/step - loss: 1.4179 - accuracy: 0.4371 - val_loss: 1.3624 - val_accuracy: 0.4471\n",
      "Epoch 6/100\n",
      "1875/1875 [==============================] - 6s 3ms/step - loss: 1.3235 - accuracy: 0.4573 - val_loss: 1.2823 - val_accuracy: 0.4710\n",
      "Epoch 7/100\n",
      "1875/1875 [==============================] - 6s 3ms/step - loss: 1.2580 - accuracy: 0.4778 - val_loss: 1.2359 - val_accuracy: 0.5094\n",
      "Epoch 8/100\n",
      "1875/1875 [==============================] - 6s 3ms/step - loss: 1.2186 - accuracy: 0.5071 - val_loss: 1.2001 - val_accuracy: 0.5242\n",
      "Epoch 9/100\n",
      "1875/1875 [==============================] - 6s 3ms/step - loss: 1.1884 - accuracy: 0.5190 - val_loss: 1.1681 - val_accuracy: 0.5486\n",
      "Epoch 10/100\n",
      "1875/1875 [==============================] - 6s 3ms/step - loss: 1.1650 - accuracy: 0.5512 - val_loss: 1.1617 - val_accuracy: 0.5730\n",
      "Epoch 11/100\n",
      "1875/1875 [==============================] - 6s 3ms/step - loss: 1.1407 - accuracy: 0.5597 - val_loss: 1.1354 - val_accuracy: 0.5923\n",
      "Epoch 12/100\n",
      "1875/1875 [==============================] - 6s 3ms/step - loss: 1.1200 - accuracy: 0.5847 - val_loss: 1.1079 - val_accuracy: 0.5923\n",
      "Epoch 13/100\n",
      "1875/1875 [==============================] - 6s 3ms/step - loss: 1.1016 - accuracy: 0.5968 - val_loss: 1.0883 - val_accuracy: 0.6231\n",
      "Epoch 14/100\n",
      "1875/1875 [==============================] - 6s 3ms/step - loss: 1.0850 - accuracy: 0.6130 - val_loss: 1.0792 - val_accuracy: 0.6110\n",
      "Epoch 15/100\n",
      "1875/1875 [==============================] - 6s 3ms/step - loss: 1.0672 - accuracy: 0.6209 - val_loss: 1.0567 - val_accuracy: 0.6222\n",
      "Epoch 16/100\n",
      "1875/1875 [==============================] - 6s 3ms/step - loss: 1.0444 - accuracy: 0.6360 - val_loss: 1.0386 - val_accuracy: 0.6333\n",
      "Epoch 17/100\n",
      "1875/1875 [==============================] - 6s 3ms/step - loss: 1.0260 - accuracy: 0.6542 - val_loss: 1.0201 - val_accuracy: 0.6805\n",
      "Epoch 18/100\n",
      "1875/1875 [==============================] - 6s 3ms/step - loss: 1.0006 - accuracy: 0.6954 - val_loss: 0.9966 - val_accuracy: 0.7159\n",
      "Epoch 19/100\n",
      "1875/1875 [==============================] - 6s 3ms/step - loss: 0.9874 - accuracy: 0.6983 - val_loss: 1.0083 - val_accuracy: 0.6956\n",
      "Epoch 20/100\n",
      "1875/1875 [==============================] - 6s 3ms/step - loss: 0.9720 - accuracy: 0.7085 - val_loss: 0.9555 - val_accuracy: 0.7525\n",
      "Epoch 21/100\n",
      "1875/1875 [==============================] - 6s 3ms/step - loss: 0.9442 - accuracy: 0.7385 - val_loss: 0.9439 - val_accuracy: 0.7542\n",
      "Epoch 22/100\n",
      "1875/1875 [==============================] - 6s 3ms/step - loss: 0.9316 - accuracy: 0.7537 - val_loss: 0.9249 - val_accuracy: 0.7790\n",
      "Epoch 23/100\n",
      "1875/1875 [==============================] - 5s 3ms/step - loss: 0.9171 - accuracy: 0.7603 - val_loss: 0.9081 - val_accuracy: 0.7912\n",
      "Epoch 24/100\n",
      "1875/1875 [==============================] - 6s 3ms/step - loss: 0.8848 - accuracy: 0.7867 - val_loss: 0.8702 - val_accuracy: 0.8079\n",
      "Epoch 25/100\n",
      "1875/1875 [==============================] - 6s 3ms/step - loss: 0.8669 - accuracy: 0.7884 - val_loss: 0.8576 - val_accuracy: 0.8090\n",
      "Epoch 26/100\n",
      "1875/1875 [==============================] - 6s 3ms/step - loss: 0.8511 - accuracy: 0.7993 - val_loss: 0.8512 - val_accuracy: 0.8153\n",
      "Epoch 27/100\n",
      "1875/1875 [==============================] - 6s 3ms/step - loss: 0.8374 - accuracy: 0.8062 - val_loss: 0.8241 - val_accuracy: 0.8191\n",
      "Epoch 28/100\n",
      "1875/1875 [==============================] - 6s 3ms/step - loss: 0.8130 - accuracy: 0.8196 - val_loss: 0.8224 - val_accuracy: 0.8201\n",
      "Epoch 29/100\n",
      "1875/1875 [==============================] - 6s 3ms/step - loss: 0.7980 - accuracy: 0.8201 - val_loss: 0.7988 - val_accuracy: 0.8287\n",
      "Epoch 30/100\n",
      "1875/1875 [==============================] - 6s 3ms/step - loss: 0.7918 - accuracy: 0.8230 - val_loss: 0.7951 - val_accuracy: 0.8302\n",
      "Epoch 31/100\n",
      "1875/1875 [==============================] - 6s 3ms/step - loss: 0.7824 - accuracy: 0.8243 - val_loss: 0.7767 - val_accuracy: 0.8448\n",
      "Epoch 32/100\n",
      "1875/1875 [==============================] - 6s 3ms/step - loss: 0.7680 - accuracy: 0.8356 - val_loss: 0.7758 - val_accuracy: 0.8374\n",
      "Epoch 33/100\n",
      "1875/1875 [==============================] - 6s 3ms/step - loss: 0.7541 - accuracy: 0.8378 - val_loss: 0.7633 - val_accuracy: 0.8410\n",
      "Epoch 34/100\n",
      "1875/1875 [==============================] - 6s 3ms/step - loss: 0.7518 - accuracy: 0.8384 - val_loss: 0.7813 - val_accuracy: 0.8311\n",
      "Epoch 35/100\n",
      "1875/1875 [==============================] - 6s 3ms/step - loss: 0.7489 - accuracy: 0.8287 - val_loss: 0.7602 - val_accuracy: 0.8204\n",
      "Epoch 36/100\n",
      "1875/1875 [==============================] - 6s 3ms/step - loss: 0.7232 - accuracy: 0.8435 - val_loss: 0.7333 - val_accuracy: 0.8470\n",
      "Epoch 37/100\n",
      "1875/1875 [==============================] - 6s 3ms/step - loss: 0.7125 - accuracy: 0.8499 - val_loss: 0.7251 - val_accuracy: 0.8472\n",
      "Epoch 38/100\n",
      "1875/1875 [==============================] - 6s 3ms/step - loss: 0.7093 - accuracy: 0.8463 - val_loss: 0.7107 - val_accuracy: 0.8518\n",
      "Epoch 39/100\n",
      "1875/1875 [==============================] - 6s 3ms/step - loss: 0.7018 - accuracy: 0.8465 - val_loss: 0.7030 - val_accuracy: 0.8559\n",
      "Epoch 40/100\n",
      "1875/1875 [==============================] - 6s 3ms/step - loss: 0.6936 - accuracy: 0.8516 - val_loss: 0.7198 - val_accuracy: 0.8429\n",
      "Epoch 41/100\n",
      "1875/1875 [==============================] - 6s 3ms/step - loss: 0.6799 - accuracy: 0.8595 - val_loss: 0.6887 - val_accuracy: 0.8578\n",
      "Epoch 42/100\n",
      "1875/1875 [==============================] - 6s 3ms/step - loss: 0.6586 - accuracy: 0.8666 - val_loss: 0.6776 - val_accuracy: 0.8586\n",
      "Epoch 43/100\n",
      "1875/1875 [==============================] - 6s 3ms/step - loss: 0.6558 - accuracy: 0.8669 - val_loss: 0.6590 - val_accuracy: 0.8774\n",
      "Epoch 44/100\n",
      "1875/1875 [==============================] - 6s 3ms/step - loss: 0.6415 - accuracy: 0.8734 - val_loss: 0.6559 - val_accuracy: 0.8677\n",
      "Epoch 45/100\n",
      "1875/1875 [==============================] - 6s 3ms/step - loss: 0.6382 - accuracy: 0.8738 - val_loss: 0.6385 - val_accuracy: 0.8840\n",
      "Epoch 46/100\n",
      "1875/1875 [==============================] - 6s 3ms/step - loss: 0.6259 - accuracy: 0.8775 - val_loss: 0.6364 - val_accuracy: 0.8825\n",
      "Epoch 47/100\n",
      "1875/1875 [==============================] - 6s 3ms/step - loss: 0.6208 - accuracy: 0.8795 - val_loss: 0.6110 - val_accuracy: 0.8953\n",
      "Epoch 48/100\n",
      "1875/1875 [==============================] - 6s 3ms/step - loss: 0.6120 - accuracy: 0.8783 - val_loss: 0.6321 - val_accuracy: 0.8655\n",
      "Epoch 49/100\n",
      "1875/1875 [==============================] - 6s 3ms/step - loss: 0.6107 - accuracy: 0.8767 - val_loss: 0.6074 - val_accuracy: 0.8851\n",
      "Epoch 50/100\n",
      "1875/1875 [==============================] - 6s 3ms/step - loss: 0.6017 - accuracy: 0.8821 - val_loss: 0.6205 - val_accuracy: 0.8787\n",
      "Epoch 51/100\n",
      "1875/1875 [==============================] - 6s 3ms/step - loss: 0.5982 - accuracy: 0.8783 - val_loss: 0.6149 - val_accuracy: 0.8749\n",
      "Epoch 52/100\n",
      "1875/1875 [==============================] - 6s 3ms/step - loss: 0.5946 - accuracy: 0.8768 - val_loss: 0.6074 - val_accuracy: 0.8788\n",
      "Epoch 53/100\n",
      "1875/1875 [==============================] - 6s 3ms/step - loss: 0.5859 - accuracy: 0.8827 - val_loss: 0.5973 - val_accuracy: 0.8838\n",
      "Epoch 54/100\n",
      "1875/1875 [==============================] - 6s 3ms/step - loss: 0.5890 - accuracy: 0.8826 - val_loss: 0.5969 - val_accuracy: 0.8851\n",
      "Val Loss: 0.5969477295875549\n",
      "Val Acc:  0.8851000070571899\n",
      "{'optimizer': <keras.optimizers.optimizer_v2.gradient_descent.SGD object at 0x7f271d995370>}\n",
      "Training...\n",
      "Epoch 1/100\n",
      "1875/1875 [==============================] - 6s 3ms/step - loss: 2.3070 - accuracy: 0.0987 - val_loss: 2.3071 - val_accuracy: 0.0980\n",
      "Epoch 2/100\n",
      "1875/1875 [==============================] - 6s 3ms/step - loss: 2.3065 - accuracy: 0.0987 - val_loss: 2.3065 - val_accuracy: 0.0980\n",
      "Epoch 3/100\n",
      "1875/1875 [==============================] - 6s 3ms/step - loss: 2.3059 - accuracy: 0.0987 - val_loss: 2.3060 - val_accuracy: 0.0980\n",
      "Epoch 4/100\n",
      "1875/1875 [==============================] - 6s 3ms/step - loss: 2.3054 - accuracy: 0.0987 - val_loss: 2.3055 - val_accuracy: 0.0980\n",
      "Epoch 5/100\n",
      "1875/1875 [==============================] - 6s 3ms/step - loss: 2.3049 - accuracy: 0.0987 - val_loss: 2.3049 - val_accuracy: 0.0980\n",
      "Epoch 6/100\n",
      "1875/1875 [==============================] - 6s 3ms/step - loss: 2.3044 - accuracy: 0.0987 - val_loss: 2.3044 - val_accuracy: 0.0980\n",
      "Epoch 7/100\n",
      "1875/1875 [==============================] - 6s 3ms/step - loss: 2.3039 - accuracy: 0.0987 - val_loss: 2.3039 - val_accuracy: 0.0980\n",
      "Epoch 8/100\n",
      "1875/1875 [==============================] - 6s 3ms/step - loss: 2.3034 - accuracy: 0.0987 - val_loss: 2.3035 - val_accuracy: 0.0980\n",
      "Epoch 9/100\n",
      "1875/1875 [==============================] - 6s 3ms/step - loss: 2.3030 - accuracy: 0.0987 - val_loss: 2.3030 - val_accuracy: 0.0980\n",
      "Epoch 10/100\n",
      "1875/1875 [==============================] - 6s 3ms/step - loss: 2.3025 - accuracy: 0.0987 - val_loss: 2.3025 - val_accuracy: 0.0980\n",
      "Epoch 11/100\n",
      "1875/1875 [==============================] - 6s 3ms/step - loss: 2.3021 - accuracy: 0.0987 - val_loss: 2.3021 - val_accuracy: 0.0980\n",
      "Epoch 12/100\n",
      "1875/1875 [==============================] - 6s 3ms/step - loss: 2.3016 - accuracy: 0.0988 - val_loss: 2.3017 - val_accuracy: 0.0981\n",
      "Epoch 13/100\n",
      "1875/1875 [==============================] - 6s 3ms/step - loss: 2.3012 - accuracy: 0.0989 - val_loss: 2.3012 - val_accuracy: 0.0985\n",
      "Epoch 14/100\n",
      "1875/1875 [==============================] - 6s 3ms/step - loss: 2.3008 - accuracy: 0.0996 - val_loss: 2.3008 - val_accuracy: 0.0998\n",
      "Epoch 15/100\n",
      "1875/1875 [==============================] - 6s 3ms/step - loss: 2.3004 - accuracy: 0.1019 - val_loss: 2.3004 - val_accuracy: 0.1029\n",
      "Epoch 16/100\n",
      "1875/1875 [==============================] - 6s 3ms/step - loss: 2.3000 - accuracy: 0.1055 - val_loss: 2.3000 - val_accuracy: 0.1095\n",
      "Epoch 17/100\n",
      "1875/1875 [==============================] - 6s 3ms/step - loss: 2.2997 - accuracy: 0.1128 - val_loss: 2.2996 - val_accuracy: 0.1171\n",
      "Epoch 18/100\n",
      "1875/1875 [==============================] - 6s 3ms/step - loss: 2.2993 - accuracy: 0.1214 - val_loss: 2.2993 - val_accuracy: 0.1290\n",
      "Epoch 19/100\n",
      "1875/1875 [==============================] - 6s 3ms/step - loss: 2.2989 - accuracy: 0.1328 - val_loss: 2.2989 - val_accuracy: 0.1394\n",
      "Epoch 20/100\n",
      "1875/1875 [==============================] - 6s 3ms/step - loss: 2.2986 - accuracy: 0.1452 - val_loss: 2.2985 - val_accuracy: 0.1515\n",
      "Epoch 21/100\n",
      "1875/1875 [==============================] - 6s 3ms/step - loss: 2.2982 - accuracy: 0.1566 - val_loss: 2.2982 - val_accuracy: 0.1654\n",
      "Epoch 22/100\n",
      "1875/1875 [==============================] - 6s 3ms/step - loss: 2.2979 - accuracy: 0.1677 - val_loss: 2.2978 - val_accuracy: 0.1745\n",
      "Epoch 23/100\n",
      "1875/1875 [==============================] - 6s 3ms/step - loss: 2.2975 - accuracy: 0.1777 - val_loss: 2.2975 - val_accuracy: 0.1835\n",
      "Epoch 24/100\n",
      "1875/1875 [==============================] - 6s 3ms/step - loss: 2.2972 - accuracy: 0.1853 - val_loss: 2.2972 - val_accuracy: 0.1900\n",
      "Epoch 25/100\n",
      "1875/1875 [==============================] - 6s 3ms/step - loss: 2.2969 - accuracy: 0.1913 - val_loss: 2.2968 - val_accuracy: 0.1938\n",
      "Epoch 26/100\n",
      "1875/1875 [==============================] - 6s 3ms/step - loss: 2.2966 - accuracy: 0.1948 - val_loss: 2.2965 - val_accuracy: 0.1977\n",
      "Epoch 27/100\n",
      "1875/1875 [==============================] - 6s 3ms/step - loss: 2.2962 - accuracy: 0.1966 - val_loss: 2.2962 - val_accuracy: 0.1981\n",
      "Epoch 28/100\n",
      "1875/1875 [==============================] - 6s 3ms/step - loss: 2.2959 - accuracy: 0.1968 - val_loss: 2.2958 - val_accuracy: 0.1983\n",
      "Epoch 29/100\n",
      "1875/1875 [==============================] - 6s 3ms/step - loss: 2.2956 - accuracy: 0.1953 - val_loss: 2.2955 - val_accuracy: 0.1971\n",
      "Epoch 30/100\n",
      "1875/1875 [==============================] - 6s 3ms/step - loss: 2.2953 - accuracy: 0.1936 - val_loss: 2.2952 - val_accuracy: 0.1960\n",
      "Epoch 31/100\n",
      "1875/1875 [==============================] - 6s 3ms/step - loss: 2.2950 - accuracy: 0.1918 - val_loss: 2.2949 - val_accuracy: 0.1934\n",
      "Epoch 32/100\n",
      "1875/1875 [==============================] - 6s 3ms/step - loss: 2.2947 - accuracy: 0.1895 - val_loss: 2.2946 - val_accuracy: 0.1910\n",
      "Epoch 33/100\n",
      "1875/1875 [==============================] - 6s 3ms/step - loss: 2.2944 - accuracy: 0.1873 - val_loss: 2.2943 - val_accuracy: 0.1878\n",
      "Epoch 34/100\n",
      "1875/1875 [==============================] - 7s 4ms/step - loss: 2.2941 - accuracy: 0.1847 - val_loss: 2.2939 - val_accuracy: 0.1855\n",
      "Epoch 35/100\n",
      "1875/1875 [==============================] - 6s 3ms/step - loss: 2.2938 - accuracy: 0.1819 - val_loss: 2.2936 - val_accuracy: 0.1823\n",
      "Epoch 36/100\n",
      "1875/1875 [==============================] - 6s 3ms/step - loss: 2.2935 - accuracy: 0.1795 - val_loss: 2.2933 - val_accuracy: 0.1795\n",
      "Epoch 37/100\n",
      "1875/1875 [==============================] - 6s 3ms/step - loss: 2.2932 - accuracy: 0.1764 - val_loss: 2.2930 - val_accuracy: 0.1778\n",
      "Epoch 38/100\n",
      "1875/1875 [==============================] - 6s 3ms/step - loss: 2.2929 - accuracy: 0.1736 - val_loss: 2.2927 - val_accuracy: 0.1756\n",
      "Epoch 39/100\n",
      "1875/1875 [==============================] - 6s 3ms/step - loss: 2.2926 - accuracy: 0.1710 - val_loss: 2.2924 - val_accuracy: 0.1729\n",
      "Epoch 40/100\n",
      "1875/1875 [==============================] - 6s 3ms/step - loss: 2.2923 - accuracy: 0.1690 - val_loss: 2.2921 - val_accuracy: 0.1704\n",
      "Epoch 41/100\n",
      "1875/1875 [==============================] - 6s 3ms/step - loss: 2.2920 - accuracy: 0.1666 - val_loss: 2.2918 - val_accuracy: 0.1681\n",
      "Epoch 42/100\n",
      "1875/1875 [==============================] - 6s 3ms/step - loss: 2.2917 - accuracy: 0.1650 - val_loss: 2.2915 - val_accuracy: 0.1659\n",
      "Epoch 43/100\n",
      "1875/1875 [==============================] - 6s 3ms/step - loss: 2.2914 - accuracy: 0.1624 - val_loss: 2.2912 - val_accuracy: 0.1633\n",
      "Epoch 44/100\n",
      "1875/1875 [==============================] - 6s 3ms/step - loss: 2.2911 - accuracy: 0.1606 - val_loss: 2.2909 - val_accuracy: 0.1626\n",
      "Epoch 45/100\n",
      "1875/1875 [==============================] - 6s 3ms/step - loss: 2.2908 - accuracy: 0.1598 - val_loss: 2.2906 - val_accuracy: 0.1611\n",
      "Epoch 46/100\n",
      "1875/1875 [==============================] - 6s 3ms/step - loss: 2.2905 - accuracy: 0.1578 - val_loss: 2.2903 - val_accuracy: 0.1593\n",
      "Epoch 47/100\n",
      "1875/1875 [==============================] - 6s 3ms/step - loss: 2.2902 - accuracy: 0.1566 - val_loss: 2.2900 - val_accuracy: 0.1583\n",
      "Epoch 48/100\n",
      "1875/1875 [==============================] - 6s 3ms/step - loss: 2.2899 - accuracy: 0.1562 - val_loss: 2.2896 - val_accuracy: 0.1574\n",
      "Epoch 49/100\n",
      "1875/1875 [==============================] - 6s 3ms/step - loss: 2.2896 - accuracy: 0.1549 - val_loss: 2.2893 - val_accuracy: 0.1562\n",
      "Epoch 50/100\n",
      "1875/1875 [==============================] - 6s 3ms/step - loss: 2.2893 - accuracy: 0.1550 - val_loss: 2.2890 - val_accuracy: 0.1553\n",
      "Epoch 51/100\n",
      "1875/1875 [==============================] - 6s 3ms/step - loss: 2.2890 - accuracy: 0.1533 - val_loss: 2.2887 - val_accuracy: 0.1551\n",
      "Epoch 52/100\n",
      "1875/1875 [==============================] - 6s 3ms/step - loss: 2.2887 - accuracy: 0.1531 - val_loss: 2.2884 - val_accuracy: 0.1536\n",
      "Epoch 53/100\n",
      "1875/1875 [==============================] - 6s 3ms/step - loss: 2.2884 - accuracy: 0.1518 - val_loss: 2.2881 - val_accuracy: 0.1536\n",
      "Epoch 54/100\n",
      "1875/1875 [==============================] - 6s 3ms/step - loss: 2.2881 - accuracy: 0.1519 - val_loss: 2.2878 - val_accuracy: 0.1532\n",
      "Epoch 55/100\n",
      "1875/1875 [==============================] - 6s 3ms/step - loss: 2.2878 - accuracy: 0.1512 - val_loss: 2.2874 - val_accuracy: 0.1528\n",
      "Epoch 56/100\n",
      "1875/1875 [==============================] - 6s 3ms/step - loss: 2.2875 - accuracy: 0.1515 - val_loss: 2.2871 - val_accuracy: 0.1521\n",
      "Epoch 57/100\n",
      "1875/1875 [==============================] - 6s 3ms/step - loss: 2.2871 - accuracy: 0.1517 - val_loss: 2.2868 - val_accuracy: 0.1528\n",
      "Epoch 58/100\n",
      "1875/1875 [==============================] - 6s 3ms/step - loss: 2.2868 - accuracy: 0.1514 - val_loss: 2.2865 - val_accuracy: 0.1527\n",
      "Epoch 59/100\n",
      "1875/1875 [==============================] - 6s 3ms/step - loss: 2.2865 - accuracy: 0.1519 - val_loss: 2.2861 - val_accuracy: 0.1529\n",
      "Epoch 60/100\n",
      "1875/1875 [==============================] - 6s 3ms/step - loss: 2.2861 - accuracy: 0.1519 - val_loss: 2.2858 - val_accuracy: 0.1530\n",
      "Epoch 61/100\n",
      "1875/1875 [==============================] - 6s 3ms/step - loss: 2.2858 - accuracy: 0.1529 - val_loss: 2.2854 - val_accuracy: 0.1533\n",
      "Epoch 62/100\n",
      "1875/1875 [==============================] - 6s 3ms/step - loss: 2.2855 - accuracy: 0.1527 - val_loss: 2.2851 - val_accuracy: 0.1539\n",
      "Epoch 63/100\n",
      "1875/1875 [==============================] - 6s 3ms/step - loss: 2.2851 - accuracy: 0.1531 - val_loss: 2.2847 - val_accuracy: 0.1546\n",
      "Epoch 64/100\n",
      "1875/1875 [==============================] - 6s 3ms/step - loss: 2.2848 - accuracy: 0.1543 - val_loss: 2.2844 - val_accuracy: 0.1558\n",
      "Epoch 65/100\n",
      "1875/1875 [==============================] - 6s 3ms/step - loss: 2.2844 - accuracy: 0.1551 - val_loss: 2.2840 - val_accuracy: 0.1566\n",
      "Epoch 66/100\n",
      "1875/1875 [==============================] - 6s 3ms/step - loss: 2.2841 - accuracy: 0.1560 - val_loss: 2.2836 - val_accuracy: 0.1579\n",
      "Epoch 67/100\n",
      "1875/1875 [==============================] - 6s 3ms/step - loss: 2.2837 - accuracy: 0.1572 - val_loss: 2.2832 - val_accuracy: 0.1586\n",
      "Epoch 68/100\n",
      "1875/1875 [==============================] - 6s 3ms/step - loss: 2.2833 - accuracy: 0.1581 - val_loss: 2.2829 - val_accuracy: 0.1600\n",
      "Epoch 69/100\n",
      "1875/1875 [==============================] - 7s 4ms/step - loss: 2.2830 - accuracy: 0.1598 - val_loss: 2.2825 - val_accuracy: 0.1617\n",
      "Epoch 70/100\n",
      "1875/1875 [==============================] - 6s 3ms/step - loss: 2.2826 - accuracy: 0.1612 - val_loss: 2.2821 - val_accuracy: 0.1635\n",
      "Epoch 71/100\n",
      "1875/1875 [==============================] - 6s 3ms/step - loss: 2.2822 - accuracy: 0.1628 - val_loss: 2.2817 - val_accuracy: 0.1655\n",
      "Epoch 72/100\n",
      "1875/1875 [==============================] - 6s 3ms/step - loss: 2.2818 - accuracy: 0.1649 - val_loss: 2.2813 - val_accuracy: 0.1673\n",
      "Epoch 73/100\n",
      "1875/1875 [==============================] - 6s 3ms/step - loss: 2.2814 - accuracy: 0.1670 - val_loss: 2.2809 - val_accuracy: 0.1697\n",
      "Epoch 74/100\n",
      "1875/1875 [==============================] - 6s 3ms/step - loss: 2.2810 - accuracy: 0.1685 - val_loss: 2.2804 - val_accuracy: 0.1718\n",
      "Epoch 75/100\n",
      "1875/1875 [==============================] - 6s 3ms/step - loss: 2.2806 - accuracy: 0.1713 - val_loss: 2.2800 - val_accuracy: 0.1740\n",
      "Epoch 76/100\n",
      "1875/1875 [==============================] - 6s 3ms/step - loss: 2.2801 - accuracy: 0.1739 - val_loss: 2.2796 - val_accuracy: 0.1767\n",
      "Epoch 77/100\n",
      "1875/1875 [==============================] - 6s 3ms/step - loss: 2.2797 - accuracy: 0.1768 - val_loss: 2.2791 - val_accuracy: 0.1801\n",
      "Epoch 78/100\n",
      "1875/1875 [==============================] - 6s 3ms/step - loss: 2.2792 - accuracy: 0.1799 - val_loss: 2.2786 - val_accuracy: 0.1839\n",
      "Epoch 79/100\n",
      "1875/1875 [==============================] - 6s 3ms/step - loss: 2.2788 - accuracy: 0.1832 - val_loss: 2.2782 - val_accuracy: 0.1891\n",
      "Epoch 80/100\n",
      "1875/1875 [==============================] - 6s 3ms/step - loss: 2.2783 - accuracy: 0.1865 - val_loss: 2.2777 - val_accuracy: 0.1921\n",
      "Epoch 81/100\n",
      "1875/1875 [==============================] - 6s 3ms/step - loss: 2.2778 - accuracy: 0.1908 - val_loss: 2.2772 - val_accuracy: 0.1955\n",
      "Epoch 82/100\n",
      "1875/1875 [==============================] - 6s 3ms/step - loss: 2.2773 - accuracy: 0.1948 - val_loss: 2.2767 - val_accuracy: 0.1996\n",
      "Epoch 83/100\n",
      "1875/1875 [==============================] - 6s 3ms/step - loss: 2.2768 - accuracy: 0.1983 - val_loss: 2.2762 - val_accuracy: 0.2044\n",
      "Epoch 84/100\n",
      "1875/1875 [==============================] - 6s 3ms/step - loss: 2.2763 - accuracy: 0.2034 - val_loss: 2.2756 - val_accuracy: 0.2088\n",
      "Epoch 85/100\n",
      "1875/1875 [==============================] - 6s 3ms/step - loss: 2.2757 - accuracy: 0.2079 - val_loss: 2.2751 - val_accuracy: 0.2133\n",
      "Epoch 86/100\n",
      "1875/1875 [==============================] - 6s 3ms/step - loss: 2.2752 - accuracy: 0.2120 - val_loss: 2.2745 - val_accuracy: 0.2186\n",
      "Epoch 87/100\n",
      "1875/1875 [==============================] - 6s 3ms/step - loss: 2.2746 - accuracy: 0.2162 - val_loss: 2.2739 - val_accuracy: 0.2222\n",
      "Epoch 88/100\n",
      "1875/1875 [==============================] - 6s 3ms/step - loss: 2.2740 - accuracy: 0.2206 - val_loss: 2.2733 - val_accuracy: 0.2272\n",
      "Epoch 89/100\n",
      "1875/1875 [==============================] - 6s 3ms/step - loss: 2.2734 - accuracy: 0.2236 - val_loss: 2.2727 - val_accuracy: 0.2324\n",
      "Epoch 90/100\n",
      "1875/1875 [==============================] - 6s 3ms/step - loss: 2.2728 - accuracy: 0.2281 - val_loss: 2.2721 - val_accuracy: 0.2359\n",
      "Epoch 91/100\n",
      "1875/1875 [==============================] - 6s 3ms/step - loss: 2.2722 - accuracy: 0.2323 - val_loss: 2.2714 - val_accuracy: 0.2387\n",
      "Epoch 92/100\n",
      "1875/1875 [==============================] - 6s 3ms/step - loss: 2.2715 - accuracy: 0.2363 - val_loss: 2.2707 - val_accuracy: 0.2420\n",
      "Epoch 93/100\n",
      "1875/1875 [==============================] - 6s 3ms/step - loss: 2.2708 - accuracy: 0.2401 - val_loss: 2.2700 - val_accuracy: 0.2455\n",
      "Epoch 94/100\n",
      "1875/1875 [==============================] - 6s 3ms/step - loss: 2.2701 - accuracy: 0.2447 - val_loss: 2.2693 - val_accuracy: 0.2488\n",
      "Epoch 95/100\n",
      "1875/1875 [==============================] - 6s 3ms/step - loss: 2.2694 - accuracy: 0.2486 - val_loss: 2.2686 - val_accuracy: 0.2532\n",
      "Epoch 96/100\n",
      "1875/1875 [==============================] - 6s 3ms/step - loss: 2.2687 - accuracy: 0.2529 - val_loss: 2.2678 - val_accuracy: 0.2565\n",
      "Epoch 97/100\n",
      "1875/1875 [==============================] - 6s 3ms/step - loss: 2.2679 - accuracy: 0.2564 - val_loss: 2.2670 - val_accuracy: 0.2599\n",
      "Epoch 98/100\n",
      "1875/1875 [==============================] - 6s 3ms/step - loss: 2.2671 - accuracy: 0.2594 - val_loss: 2.2662 - val_accuracy: 0.2628\n",
      "Epoch 99/100\n",
      "1875/1875 [==============================] - 6s 3ms/step - loss: 2.2663 - accuracy: 0.2632 - val_loss: 2.2654 - val_accuracy: 0.2656\n",
      "Epoch 100/100\n",
      "1875/1875 [==============================] - 6s 3ms/step - loss: 2.2654 - accuracy: 0.2665 - val_loss: 2.2645 - val_accuracy: 0.2684\n",
      "Val Loss: 2.2645151615142822\n",
      "Val Acc:  0.26840001344680786\n"
     ]
    }
   ],
   "source": [
    "from keras.wrappers.scikit_learn import KerasClassifier\n",
    "from sklearn.model_selection import ParameterGrid\n",
    "\n",
    "def make_model(optimizer):\n",
    "  model = keras.models.Sequential()\n",
    "  model.add(keras.layers.Flatten(input_shape=[28, 28]))\n",
    "\n",
    "  model.add(keras.layers.Dense(50, activation='sigmoid'))\n",
    "  model.add(keras.layers.Dense(10, activation='sigmoid'))\n",
    "\n",
    "  model.add(keras.layers.Dense(len(np.unique(y_train)), activation='softmax'))\n",
    "\n",
    "  model.add(keras.layers.Dense(10, activation=\"softmax\"))\n",
    "\n",
    "\n",
    "  model.compile(loss=\"sparse_categorical_crossentropy\",\n",
    "                optimizer=optimizer,\n",
    "                metrics=[\"accuracy\"])\n",
    "\n",
    "  return model\n",
    "\n",
    "cls = KerasClassifier(build_fn=make_model)\n",
    "\n",
    "SGD_lr = {\n",
    "    tf.keras.optimizers.SGD(learning_rate=0.01),\n",
    "    tf.keras.optimizers.SGD(learning_rate=0.001),\n",
    "    tf.keras.optimizers.SGD(learning_rate=0.0001)\n",
    "}\n",
    "\n",
    "param_grid = {'optimizer' : SGD_lr}\n",
    "\n",
    "callback = tf.keras.callbacks.EarlyStopping(monitor='loss', patience=1)\n",
    "\n",
    "results = list()\n",
    "for params in ParameterGrid(param_grid=param_grid):\n",
    "  cls.set_params(**params)\n",
    "\n",
    "  print(params)\n",
    "\n",
    "  print('Training...')\n",
    "  history = cls.fit(X_train, y_train, epochs=100, validation_data=(X_test, y_test), callbacks=[callback])\n",
    "\n",
    "  df = pd.DataFrame(history.history)\n",
    "\n",
    "  print('Val Loss:', history.history['val_loss'][-1])\n",
    "  print('Val Acc: ', history.history['val_accuracy'][-1])\n",
    "\n",
    "\n",
    "  results.append(df)"
   ]
  },
  {
   "cell_type": "markdown",
   "metadata": {
    "id": "n_H4nGcyY-l-"
   },
   "source": [
    "**Try searching for the optimal learning rate.**\n",
    "\n",
    "I used grid search method to search SGD learning rates: 0.01, 0.001, and 0.0001. The best accuracy resulted from the learning rate of 0.001, which I believe is the default learning rate."
   ]
  }
 ],
 "metadata": {
  "colab": {
   "provenance": []
  },
  "kernelspec": {
   "display_name": "Python 3 (ipykernel)",
   "language": "python",
   "name": "python3"
  },
  "language_info": {
   "codemirror_mode": {
    "name": "ipython",
    "version": 3
   },
   "file_extension": ".py",
   "mimetype": "text/x-python",
   "name": "python",
   "nbconvert_exporter": "python",
   "pygments_lexer": "ipython3",
   "version": "3.9.7"
  }
 },
 "nbformat": 4,
 "nbformat_minor": 1
}
